{
 "cells": [
  {
   "cell_type": "markdown",
   "metadata": {},
   "source": [
    "Create by Linyang He(15307130240)\n",
    "\n",
    "\n",
    "# Find/design 5 sets of different data, and use 5 different types of plots to visualize the data using Python and matplotlib; please take a few sentences to describe the data information, background, and visualization effects for analysis. Submit your 5 data sets and code."
   ]
  },
  {
   "cell_type": "markdown",
   "metadata": {},
   "source": [
    "Import libs we need"
   ]
  },
  {
   "cell_type": "code",
   "execution_count": 5,
   "metadata": {},
   "outputs": [],
   "source": [
    "import numpy as np\n",
    "import pandas as pd\n",
    "from matplotlib import pyplot as plt"
   ]
  },
  {
   "cell_type": "markdown",
   "metadata": {},
   "source": [
    "## Bar Chart\n",
    "\n",
    " \n",
    "First, we will create some data. Let's take the males' height data as the example. 我们以身高为例。"
   ]
  },
  {
   "cell_type": "code",
   "execution_count": 26,
   "metadata": {
    "collapsed": true
   },
   "outputs": [],
   "source": [
    "Males_height = {\"Germany\":181, \"US\": 178, \"Korea\": 176,\"Japan\":172, \"China\": 170}"
   ]
  },
  {
   "cell_type": "code",
   "execution_count": 39,
   "metadata": {},
   "outputs": [
    {
     "name": "stdout",
     "output_type": "stream",
     "text": [
      "[181, 178, 176, 172, 170]\n",
      "['Germany', 'US', 'Korea', 'Japan', 'China']\n"
     ]
    }
   ],
   "source": [
    "data = list(Males_height.values())\n",
    "labels = list(Males_height.keys())\n",
    "print(data)\n",
    "print(labels)"
   ]
  },
  {
   "cell_type": "markdown",
   "metadata": {},
   "source": [
    "Next, we will use the matplotlib to implement data visualization."
   ]
  },
  {
   "cell_type": "code",
   "execution_count": 53,
   "metadata": {},
   "outputs": [
    {
     "data": {
      "image/png": "[encoded data removed]",
      "text/plain": [
       "<matplotlib.figure.Figure at 0x16f83810e10>"
      ]
     },
     "metadata": {},
     "output_type": "display_data"
    }
   ],
   "source": [
    "width = .5\n",
    "index = [i for i in range(5)]\n",
    "fig, ax = plt.subplots(nrows = 1, ncols = 1, figsize=(9,6))\n",
    "p1 = ax.bar(left=index,height = data, width = width, color = 'lightblue')\n",
    "ax.set_ylim(min(data)-5, max(data)+5)\n",
    "ax.set_xticks(index)\n",
    "ax.set_xticklabels(labels)\n",
    "ax.set_xlabel('Country', color='c', fontsize=18)\n",
    "ax.set_ylabel(\"Males' Height\", color='c', fontsize=18)\n",
    "plt.show()"
   ]
  }
 ],
 "metadata": {
  "kernelspec": {
   "display_name": "Python 3",
   "language": "python",
   "name": "python3"
  },
  "language_info": {
   "codemirror_mode": {
    "name": "ipython",
    "version": 3
   },
   "file_extension": ".py",
   "mimetype": "text/x-python",
   "name": "python",
   "nbconvert_exporter": "python",
   "pygments_lexer": "ipython3",
   "version": "3.6.1"
  }
 },
 "nbformat": 4,
 "nbformat_minor": 2
}
