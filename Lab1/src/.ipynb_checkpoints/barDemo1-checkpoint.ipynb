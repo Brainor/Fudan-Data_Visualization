{
 "cells": [
  {
   "cell_type": "markdown",
   "metadata": {},
   "source": [
    "#####  条形图代码示意图 ——条形组图\n",
    "* 使用三种不同颜色结合不同坐标位置画出条形组图"
   ]
  },
  {
   "cell_type": "code",
   "execution_count": 2,
   "metadata": {},
   "outputs": [
    {
     "data": {
      "image/png": "[encoded data removed]",
      "text/plain": [
       "<matplotlib.figure.Figure at 0x1b757182d68>"
      ]
     },
     "metadata": {},
     "output_type": "display_data"
    }
   ],
   "source": [
    "import matplotlib.pyplot as plt # import library (modules) we need for plot\n",
    " \n",
    "green_data = [1, 2, 3] \n",
    "blue_data = [3, 2, 1]\n",
    "red_data = [2, 3, 3]\n",
    "labels = ['group 1', 'group 2', 'group 3']\n",
    " \n",
    "width = .2\n",
    "pos = list(range(len(green_data)))  # 0 1 2\n",
    " \n",
    "\n",
    "# matplotlib.pyplot.subplots(nrows=1, ncols=1, sharex=False, sharey=False, squeeze=True, subplot_kw=None, gridspec_kw=None, **fig_kw)\n",
    "# parameters not in before will be passed to fig_kw, which are parameters for figure():\n",
    "# matplotlib.pyplot.figure(num=None, figsize=None, dpi=None, facecolor=None, edgecolor=None, frameon=True, FigureClass=<class 'matplotlib.figure.Figure'>, **kwargs)\n",
    "fig, ax = plt.subplots(nrows=1,ncols=1,figsize=(9,6))\n",
    " \n",
    "\n",
    "    \n",
    "    \n",
    "    \n",
    "# 请用matplotlib.pyplot.bar 画出绿色的条形图\n",
    " \n",
    "                 \n",
    "\n",
    "#画出蓝色的条形图 \n",
    "\n",
    "#画出红色的条形图 \n",
    "\n",
    "#用ax设置x，y的label（set_ylabel，set_xticks，set_xticklabels），图的title（set_title('Grouped bar plot')）\n",
    " \n",
    "#设定x轴的数值范围\n",
    "#设定y轴的数值范围\n",
    " \n",
    "#画出缩略示意图\n",
    "#显示网格\n",
    "\n",
    "\n",
    "\n",
    "\n",
    "\n",
    "\n",
    "\n",
    "\n",
    "\n",
    "\n",
    "plt.show()\n",
    "\n",
    "\n"
   ]
  },
  {
   "cell_type": "code",
   "execution_count": null,
   "metadata": {
    "collapsed": true
   },
   "outputs": [],
   "source": []
  }
 ],
 "metadata": {
  "kernelspec": {
   "display_name": "Python 3",
   "language": "python",
   "name": "python3"
  },
  "language_info": {
   "codemirror_mode": {
    "name": "ipython",
    "version": 3
   },
   "file_extension": ".py",
   "mimetype": "text/x-python",
   "name": "python",
   "nbconvert_exporter": "python",
   "pygments_lexer": "ipython3",
   "version": "3.6.4"
  }
 },
 "nbformat": 4,
 "nbformat_minor": 2
}
